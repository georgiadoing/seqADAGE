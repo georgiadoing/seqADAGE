{
 "cells": [
  {
   "cell_type": "markdown",
   "metadata": {},
   "source": [
    "# Train ADAGE models on RNAseq data\n",
    "\n",
    "### Georgia Doing 2021\n",
    "\n",
    "This notebook walks through the training of an RNAseq-based ADAGE model as a continuation of analyses from last year (2021_06_eADAGE_adapt/seqADAGE).\n",
    "\n",
    "Since then we have downloaded a new compendium of RNAseq data and aligned it to the PAO1 and PA14 reference genomes using prokarytoic-optimized parameters.\n",
    "(https://github.com/hoganlab-dartmouth/pa-seq-compendia)\n",
    "\n",
    "The main objectives are to train models, take a first look and save the models for further analysis on forthcoming notebooks\n",
    "1. Load compendia\n",
    "2. Train and save models\n",
    "3. Visualize first-look plots"
   ]
  },
  {
   "cell_type": "markdown",
   "metadata": {},
   "source": [
    "### 0. Setup"
   ]
  },
  {
   "cell_type": "code",
   "execution_count": 1,
   "metadata": {},
   "outputs": [],
   "source": [
    "import run_count_autoencoder\n",
    "import run_model\n",
    "import pandas as pd\n",
    "import matplotlib.pyplot as plt\n",
    "import seaborn as sns\n",
    "import numpy as np\n",
    "from imp import reload\n",
    "import Adage"
   ]
  },
  {
   "cell_type": "code",
   "execution_count": 55,
   "metadata": {},
   "outputs": [
    {
     "data": {
      "text/plain": [
       "<module 'Adage' from '/Users/georgia/Dropbox (Hogan Lab)/Digital_notebook/2021_04_23_seqADAGE/seqADAGE/Py/Adage.py'>"
      ]
     },
     "execution_count": 55,
     "metadata": {},
     "output_type": "execute_result"
    }
   ],
   "source": [
    "# for dev purposes, while updating run_model.py need to reload\n",
    "sns.reset_orig()\n",
    "reload(run_count_autoencoder)\n",
    "reload(run_model)\n",
    "reload(Adage)"
   ]
  },
  {
   "cell_type": "markdown",
   "metadata": {},
   "source": [
    "### 1. Load Compendia"
   ]
  },
  {
   "cell_type": "code",
   "execution_count": 3,
   "metadata": {},
   "outputs": [
    {
     "name": "stdout",
     "output_type": "stream",
     "text": [
      "5549 950\n"
     ]
    }
   ],
   "source": [
    "array_comp = np.loadtxt(open('../data_files/train_set_normalized_no_names.csv', \"rb\"),delimiter=',',skiprows = 1)\n",
    "a_gene_num = np.size(array_comp, 0)\n",
    "a_samp_num = np.size(array_comp, 1)\n",
    "print(a_gene_num, a_samp_num)"
   ]
  },
  {
   "cell_type": "code",
   "execution_count": 4,
   "metadata": {},
   "outputs": [
    {
     "name": "stdout",
     "output_type": "stream",
     "text": [
      "5563 2766\n"
     ]
    }
   ],
   "source": [
    "seq_comp = np.loadtxt(open('../data_files/pao1_aligned_rnaseq_compendium_zp2_MRnorm_log_01_no_gene_names.csv', \"rb\"),delimiter=',',skiprows = 1)\n",
    "s_gene_num = np.size(seq_comp, 0)\n",
    "s_samp_num = np.size(seq_comp, 1)\n",
    "print(s_gene_num, s_samp_num)"
   ]
  },
  {
   "cell_type": "code",
   "execution_count": 5,
   "metadata": {},
   "outputs": [
    {
     "data": {
      "text/plain": [
       "<AxesSubplot:ylabel='Density'>"
      ]
     },
     "execution_count": 5,
     "metadata": {},
     "output_type": "execute_result"
    },
    {
     "data": {
      "image/png": "[encoded data removed]",
      "text/plain": [
       "<Figure size 1152x288 with 2 Axes>"
      ]
     },
     "metadata": {
      "needs_background": "light"
     },
     "output_type": "display_data"
    }
   ],
   "source": [
    "fig, (ax1, ax2) = plt.subplots(1,2,figsize=(16 ,4))\n",
    "sns.histplot(array_comp.flatten(), stat='density', binwidth=.01,ax=ax1)\n",
    "sns.histplot(seq_comp.flatten(), stat='density', binwidth=.01,ax=ax2)"
   ]
  },
  {
   "cell_type": "markdown",
   "metadata": {},
   "source": [
    "### 2. Train Models"
   ]
  },
  {
   "cell_type": "code",
   "execution_count": 51,
   "metadata": {},
   "outputs": [
    {
     "name": "stdout",
     "output_type": "stream",
     "text": [
      "test\n",
      "tensorflow\n",
      "(5549, 950)\n",
      "Model: \"sequential_24\"\n",
      "_________________________________________________________________\n",
      "Layer (type)                 Output Shape              Param #   \n",
      "=================================================================\n",
      "dense_24 (Dense)             (None, 300)               1665000   \n",
      "_________________________________________________________________\n",
      "module_wrapper_24 (ModuleWra (None, 5549)              1665000   \n",
      "=================================================================\n",
      "Total params: 1,665,000\n",
      "Trainable params: 1,665,000\n",
      "Non-trainable params: 0\n",
      "_________________________________________________________________\n",
      "86/86 [==============================] - 2s 18ms/step - loss: 0.6963 - val_loss: 0.6961\n",
      "(5549, 300)\n"
     ]
    },
    {
     "data": {
      "text/plain": [
       "(5549, 300)"
      ]
     },
     "execution_count": 51,
     "metadata": {},
     "output_type": "execute_result"
    }
   ],
   "source": [
    "ma = run_model.run_model('../data_files/train_set_normalized.csv',lr=.01,seed=560,kl1=0,kl2=0,act = 'sigmoid', tied = True, epochs=1, init='glorot_uniform', batch_size=10)\n",
    "np.shape(ma.weights)"
   ]
  },
  {
   "cell_type": "code",
   "execution_count": 63,
   "metadata": {},
   "outputs": [
    {
     "name": "stdout",
     "output_type": "stream",
     "text": [
      "test\n",
      "tensorflow\n",
      "(5549, 950)\n",
      "Model: \"sequential_28\"\n",
      "_________________________________________________________________\n",
      "Layer (type)                 Output Shape              Param #   \n",
      "=================================================================\n",
      "dense_28 (Dense)             (None, 300)               1665000   \n",
      "_________________________________________________________________\n",
      "module_wrapper_28 (ModuleWra (None, 5549)              1665000   \n",
      "=================================================================\n",
      "Total params: 1,665,000\n",
      "Trainable params: 1,665,000\n",
      "Non-trainable params: 0\n",
      "_________________________________________________________________\n",
      "Epoch 1/50\n",
      "86/86 [==============================] - 3s 21ms/step - loss: 2.8541 - val_loss: 2.7033\n",
      "Epoch 2/50\n",
      "86/86 [==============================] - 2s 19ms/step - loss: 2.6604 - val_loss: 2.6170\n",
      "Epoch 3/50\n",
      "86/86 [==============================] - 2s 18ms/step - loss: 2.5942 - val_loss: 2.5703\n",
      "Epoch 4/50\n",
      "86/86 [==============================] - 1s 17ms/step - loss: 2.5602 - val_loss: 2.5454\n",
      "Epoch 5/50\n",
      "86/86 [==============================] - 2s 18ms/step - loss: 2.5354 - val_loss: 2.5162\n",
      "Epoch 6/50\n",
      "86/86 [==============================] - 2s 18ms/step - loss: 2.5083 - val_loss: 2.4995\n",
      "Epoch 7/50\n",
      "86/86 [==============================] - 2s 19ms/step - loss: 2.4953 - val_loss: 2.4885\n",
      "Epoch 8/50\n",
      "86/86 [==============================] - 2s 18ms/step - loss: 2.4868 - val_loss: 2.4802\n",
      "Epoch 9/50\n",
      "86/86 [==============================] - 2s 19ms/step - loss: 2.4806 - val_loss: 2.4737\n",
      "Epoch 10/50\n",
      "86/86 [==============================] - 2s 20ms/step - loss: 2.4744 - val_loss: 2.4679\n",
      "Epoch 11/50\n",
      "86/86 [==============================] - 2s 21ms/step - loss: 2.4687 - val_loss: 2.4635\n",
      "Epoch 12/50\n",
      "86/86 [==============================] - 2s 18ms/step - loss: 2.4653 - val_loss: 2.4594\n",
      "Epoch 13/50\n",
      "86/86 [==============================] - 2s 18ms/step - loss: 2.4623 - val_loss: 2.4570\n",
      "Epoch 14/50\n",
      "86/86 [==============================] - 2s 19ms/step - loss: 2.4584 - val_loss: 2.4534\n",
      "Epoch 15/50\n",
      "86/86 [==============================] - 2s 18ms/step - loss: 2.4563 - val_loss: 2.4521\n",
      "Epoch 16/50\n",
      "86/86 [==============================] - 3s 29ms/step - loss: 2.4544 - val_loss: 2.4500\n",
      "Epoch 17/50\n",
      "86/86 [==============================] - 2s 24ms/step - loss: 2.4534 - val_loss: 2.4497\n",
      "Epoch 18/50\n",
      "86/86 [==============================] - 2s 23ms/step - loss: 2.4536 - val_loss: 2.4501\n",
      "Epoch 19/50\n",
      "86/86 [==============================] - 2s 22ms/step - loss: 2.4521 - val_loss: 2.4477\n",
      "Epoch 20/50\n",
      "86/86 [==============================] - 2s 23ms/step - loss: 2.4514 - val_loss: 2.4475\n",
      "Epoch 21/50\n",
      "86/86 [==============================] - 2s 20ms/step - loss: 2.4512 - val_loss: 2.4474\n",
      "Epoch 22/50\n",
      "86/86 [==============================] - 2s 21ms/step - loss: 2.4511 - val_loss: 2.4473\n",
      "Epoch 23/50\n",
      "86/86 [==============================] - 2s 21ms/step - loss: 2.4511 - val_loss: 2.4472\n",
      "Epoch 24/50\n",
      "86/86 [==============================] - 2s 21ms/step - loss: 2.4510 - val_loss: 2.4471\n",
      "Epoch 25/50\n",
      "86/86 [==============================] - 2s 19ms/step - loss: 2.4510 - val_loss: 2.4471\n",
      "Epoch 26/50\n",
      "86/86 [==============================] - 2s 19ms/step - loss: 2.4509 - val_loss: 2.4471\n",
      "Epoch 27/50\n",
      "86/86 [==============================] - 2s 21ms/step - loss: 2.4509 - val_loss: 2.4470\n",
      "Epoch 28/50\n",
      "86/86 [==============================] - 2s 19ms/step - loss: 2.4509 - val_loss: 2.4470\n",
      "Epoch 29/50\n",
      "86/86 [==============================] - 2s 18ms/step - loss: 2.4509 - val_loss: 2.4470\n",
      "Epoch 30/50\n",
      "86/86 [==============================] - 2s 18ms/step - loss: 2.4509 - val_loss: 2.4470\n",
      "Epoch 31/50\n",
      "86/86 [==============================] - 2s 18ms/step - loss: 2.4508 - val_loss: 2.4469\n",
      "Epoch 32/50\n",
      "86/86 [==============================] - 2s 18ms/step - loss: 2.4508 - val_loss: 2.4469\n",
      "Epoch 33/50\n",
      "86/86 [==============================] - 2s 18ms/step - loss: 2.4508 - val_loss: 2.4469\n",
      "Epoch 34/50\n",
      "86/86 [==============================] - 2s 20ms/step - loss: 2.4508 - val_loss: 2.4469\n",
      "Epoch 35/50\n",
      "86/86 [==============================] - 2s 20ms/step - loss: 2.4508 - val_loss: 2.4469\n",
      "Epoch 36/50\n",
      "86/86 [==============================] - 2s 20ms/step - loss: 2.4508 - val_loss: 2.4469\n",
      "Epoch 37/50\n",
      "86/86 [==============================] - 2s 21ms/step - loss: 2.4502 - val_loss: 2.4456\n",
      "Epoch 38/50\n",
      "86/86 [==============================] - 2s 21ms/step - loss: 2.4495 - val_loss: 2.4455\n",
      "Epoch 39/50\n",
      "86/86 [==============================] - 2s 22ms/step - loss: 2.4495 - val_loss: 2.4455\n",
      "Epoch 40/50\n",
      "86/86 [==============================] - 2s 18ms/step - loss: 2.4495 - val_loss: 2.4455\n",
      "Epoch 41/50\n",
      "86/86 [==============================] - 2s 24ms/step - loss: 2.4495 - val_loss: 2.4455\n",
      "Epoch 42/50\n",
      "86/86 [==============================] - 1s 17ms/step - loss: 2.4495 - val_loss: 2.4455\n",
      "Epoch 43/50\n",
      "86/86 [==============================] - 2s 20ms/step - loss: 2.4495 - val_loss: 2.4455\n",
      "Epoch 44/50\n",
      "86/86 [==============================] - 2s 22ms/step - loss: 2.4495 - val_loss: 2.4455\n",
      "Epoch 45/50\n",
      "86/86 [==============================] - 2s 22ms/step - loss: 2.4494 - val_loss: 2.4455\n",
      "Epoch 46/50\n",
      "86/86 [==============================] - 2s 21ms/step - loss: 2.4494 - val_loss: 2.4455\n",
      "Epoch 47/50\n",
      "86/86 [==============================] - 2s 24ms/step - loss: 2.4494 - val_loss: 2.4455\n",
      "Epoch 48/50\n",
      "86/86 [==============================] - 2s 17ms/step - loss: 2.4494 - val_loss: 2.4455\n",
      "Epoch 49/50\n",
      "86/86 [==============================] - 2s 18ms/step - loss: 2.4494 - val_loss: 2.4455\n",
      "Epoch 50/50\n",
      "86/86 [==============================] - 1s 16ms/step - loss: 2.4494 - val_loss: 2.4454\n",
      "(5549, 300)\n"
     ]
    }
   ],
   "source": [
    "ma = run_model.run_model('../data_files/train_set_normalized.csv',lr=.01,seed=560,kl1=0,kl2=0,act = 'sigmoid', tied = True, epochs=50, init='glorot_uniform', batch_size=10)\n"
   ]
  },
  {
   "cell_type": "code",
   "execution_count": 22,
   "metadata": {},
   "outputs": [
    {
     "name": "stdout",
     "output_type": "stream",
     "text": [
      "test\n",
      "tensorflow\n",
      "(5549, 950)\n",
      "Model: \"sequential_9\"\n",
      "_________________________________________________________________\n",
      "Layer (type)                 Output Shape              Param #   \n",
      "=================================================================\n",
      "dense_9 (Dense)              (None, 300)               1665000   \n",
      "_________________________________________________________________\n",
      "module_wrapper_9 (ModuleWrap (None, 5549)              1665000   \n",
      "=================================================================\n",
      "Total params: 1,665,000\n",
      "Trainable params: 1,665,000\n",
      "Non-trainable params: 0\n",
      "_________________________________________________________________\n",
      "Epoch 1/50\n",
      "86/86 [==============================] - 4s 38ms/step - loss: 2.7423 - val_loss: 2.5825\n",
      "Epoch 2/50\n",
      "86/86 [==============================] - 3s 33ms/step - loss: 2.5495 - val_loss: 2.5135\n",
      "Epoch 3/50\n",
      "86/86 [==============================] - 3s 34ms/step - loss: 2.5012 - val_loss: 2.4771\n",
      "Epoch 4/50\n",
      "86/86 [==============================] - 3s 33ms/step - loss: 2.4648 - val_loss: 2.4419\n",
      "Epoch 5/50\n",
      "86/86 [==============================] - 3s 34ms/step - loss: 2.4363 - val_loss: 2.4230\n",
      "Epoch 6/50\n",
      "86/86 [==============================] - 3s 37ms/step - loss: 2.4217 - val_loss: 2.4131\n",
      "Epoch 7/50\n",
      "86/86 [==============================] - 4s 41ms/step - loss: 2.4134 - val_loss: 2.4058\n",
      "Epoch 8/50\n",
      "86/86 [==============================] - 4s 47ms/step - loss: 2.4016 - val_loss: 2.3941\n",
      "Epoch 9/50\n",
      "86/86 [==============================] - 5s 59ms/step - loss: 2.3961 - val_loss: 2.3917\n",
      "Epoch 10/50\n",
      "86/86 [==============================] - 5s 55ms/step - loss: 2.3920 - val_loss: 2.3875\n",
      "Epoch 11/50\n",
      "86/86 [==============================] - 4s 44ms/step - loss: 2.3894 - val_loss: 2.3854\n",
      "Epoch 12/50\n",
      "86/86 [==============================] - 3s 40ms/step - loss: 2.3869 - val_loss: 2.3828\n",
      "Epoch 13/50\n",
      "86/86 [==============================] - 3s 40ms/step - loss: 2.3848 - val_loss: 2.3821\n",
      "Epoch 14/50\n",
      "86/86 [==============================] - 3s 36ms/step - loss: 2.3824 - val_loss: 2.3781\n",
      "Epoch 15/50\n",
      "86/86 [==============================] - 3s 39ms/step - loss: 2.3795 - val_loss: 2.3767\n",
      "Epoch 16/50\n",
      "86/86 [==============================] - 3s 39ms/step - loss: 2.3786 - val_loss: 2.3764\n",
      "Epoch 17/50\n",
      "86/86 [==============================] - 4s 42ms/step - loss: 2.3782 - val_loss: 2.3756\n",
      "Epoch 18/50\n",
      "86/86 [==============================] - 3s 34ms/step - loss: 2.3770 - val_loss: 2.3744\n",
      "Epoch 19/50\n",
      "86/86 [==============================] - 3s 32ms/step - loss: 2.3759 - val_loss: 2.3735\n",
      "Epoch 20/50\n",
      "86/86 [==============================] - 3s 34ms/step - loss: 2.3741 - val_loss: 2.3719\n",
      "Epoch 21/50\n",
      "86/86 [==============================] - 3s 33ms/step - loss: 2.3736 - val_loss: 2.3718\n",
      "Epoch 22/50\n",
      "86/86 [==============================] - 3s 33ms/step - loss: 2.3735 - val_loss: 2.3717\n",
      "Epoch 23/50\n",
      "86/86 [==============================] - 3s 35ms/step - loss: 2.3734 - val_loss: 2.3717\n",
      "Epoch 24/50\n",
      "86/86 [==============================] - 3s 32ms/step - loss: 2.3734 - val_loss: 2.3717\n",
      "Epoch 25/50\n",
      "86/86 [==============================] - 3s 32ms/step - loss: 2.3733 - val_loss: 2.3717\n",
      "Epoch 26/50\n",
      "86/86 [==============================] - 3s 32ms/step - loss: 2.3733 - val_loss: 2.3717\n",
      "Epoch 27/50\n",
      "86/86 [==============================] - 3s 31ms/step - loss: 2.3732 - val_loss: 2.3717\n",
      "Epoch 28/50\n",
      "86/86 [==============================] - 3s 33ms/step - loss: 2.3732 - val_loss: 2.3717\n",
      "Epoch 29/50\n",
      "86/86 [==============================] - 3s 32ms/step - loss: 2.3732 - val_loss: 2.3717\n",
      "Epoch 30/50\n",
      "86/86 [==============================] - 3s 33ms/step - loss: 2.3732 - val_loss: 2.3717\n",
      "Epoch 31/50\n",
      "86/86 [==============================] - 3s 33ms/step - loss: 2.3732 - val_loss: 2.3717\n",
      "Epoch 32/50\n",
      "86/86 [==============================] - 3s 34ms/step - loss: 2.3732 - val_loss: 2.3717\n",
      "Epoch 33/50\n",
      "86/86 [==============================] - 3s 34ms/step - loss: 2.3731 - val_loss: 2.3717\n",
      "Epoch 34/50\n",
      "86/86 [==============================] - 3s 33ms/step - loss: 2.3731 - val_loss: 2.3717\n",
      "Epoch 35/50\n",
      "86/86 [==============================] - 3s 33ms/step - loss: 2.3731 - val_loss: 2.3717\n",
      "Epoch 36/50\n",
      "86/86 [==============================] - 3s 33ms/step - loss: 2.3731 - val_loss: 2.3717\n",
      "Epoch 37/50\n",
      "86/86 [==============================] - 3s 32ms/step - loss: 2.3731 - val_loss: 2.3717\n",
      "Epoch 38/50\n",
      "86/86 [==============================] - 3s 32ms/step - loss: 2.3731 - val_loss: 2.3717\n",
      "Epoch 39/50\n",
      "86/86 [==============================] - 3s 32ms/step - loss: 2.3731 - val_loss: 2.3717\n",
      "Epoch 40/50\n",
      "86/86 [==============================] - 3s 32ms/step - loss: 2.3731 - val_loss: 2.3717\n",
      "Epoch 41/50\n",
      "86/86 [==============================] - 3s 32ms/step - loss: 2.3731 - val_loss: 2.3717\n",
      "Epoch 42/50\n",
      "86/86 [==============================] - 3s 33ms/step - loss: 2.3731 - val_loss: 2.3716\n",
      "Epoch 43/50\n",
      "86/86 [==============================] - 3s 33ms/step - loss: 2.3731 - val_loss: 2.3716\n",
      "Epoch 44/50\n",
      "86/86 [==============================] - 3s 32ms/step - loss: 2.3731 - val_loss: 2.3716\n",
      "Epoch 45/50\n",
      "86/86 [==============================] - 3s 34ms/step - loss: 2.3731 - val_loss: 2.3716\n",
      "Epoch 46/50\n",
      "86/86 [==============================] - 3s 33ms/step - loss: 2.3731 - val_loss: 2.3716\n",
      "Epoch 47/50\n",
      "86/86 [==============================] - 3s 33ms/step - loss: 2.3731 - val_loss: 2.3716\n",
      "Epoch 48/50\n",
      "86/86 [==============================] - 3s 33ms/step - loss: 2.3731 - val_loss: 2.3716\n",
      "Epoch 49/50\n",
      "86/86 [==============================] - 3s 34ms/step - loss: 2.3731 - val_loss: 2.3716\n",
      "Epoch 50/50\n",
      "86/86 [==============================] - 3s 33ms/step - loss: 2.3731 - val_loss: 2.3716\n",
      "(2,)\n",
      "test\n",
      "tensorflow\n",
      "(5563, 2766)\n",
      "Model: \"sequential_10\"\n",
      "_________________________________________________________________\n",
      "Layer (type)                 Output Shape              Param #   \n",
      "=================================================================\n",
      "dense_10 (Dense)             (None, 300)               1669200   \n",
      "_________________________________________________________________\n",
      "module_wrapper_10 (ModuleWra (None, 5563)              1669200   \n",
      "=================================================================\n",
      "Total params: 1,669,200\n",
      "Trainable params: 1,669,200\n",
      "Non-trainable params: 0\n",
      "_________________________________________________________________\n",
      "Epoch 1/50\n",
      "249/249 [==============================] - 14s 53ms/step - loss: 39.0106 - val_loss: 23.7689\n",
      "Epoch 2/50\n",
      "249/249 [==============================] - 12s 49ms/step - loss: 16.2245 - val_loss: 11.8648\n",
      "Epoch 3/50\n",
      "249/249 [==============================] - 12s 50ms/step - loss: 8.5080 - val_loss: 6.1284\n",
      "Epoch 4/50\n",
      "249/249 [==============================] - 12s 49ms/step - loss: 5.3322 - val_loss: 4.4046\n",
      "Epoch 5/50\n",
      "249/249 [==============================] - 13s 52ms/step - loss: 4.9180 - val_loss: 5.8551\n",
      "Epoch 6/50\n",
      "249/249 [==============================] - 13s 51ms/step - loss: 8.6648 - val_loss: 12.0330\n",
      "Epoch 7/50\n",
      "249/249 [==============================] - 12s 49ms/step - loss: 14.6337 - val_loss: 18.7845\n",
      "Epoch 8/50\n",
      "249/249 [==============================] - 13s 53ms/step - loss: 20.5206 - val_loss: 27.1954\n",
      "Epoch 9/50\n",
      "249/249 [==============================] - 13s 51ms/step - loss: 20.1521 - val_loss: 14.8587\n",
      "Epoch 10/50\n",
      "249/249 [==============================] - 13s 51ms/step - loss: 13.6010 - val_loss: 12.1352\n",
      "Epoch 11/50\n",
      "249/249 [==============================] - 13s 51ms/step - loss: 13.1352 - val_loss: 12.0066\n",
      "Epoch 12/50\n",
      "249/249 [==============================] - 12s 50ms/step - loss: 8.4139 - val_loss: 5.4684\n",
      "Epoch 13/50\n",
      "249/249 [==============================] - 13s 51ms/step - loss: 3.8658 - val_loss: 2.6895\n",
      "Epoch 14/50\n",
      "249/249 [==============================] - 13s 53ms/step - loss: 2.0738 - val_loss: 1.7201\n",
      "Epoch 15/50\n",
      "249/249 [==============================] - 14s 57ms/step - loss: 1.7102 - val_loss: 1.8141\n",
      "Epoch 16/50\n",
      "249/249 [==============================] - 14s 57ms/step - loss: 2.2304 - val_loss: 2.2515\n",
      "Epoch 17/50\n",
      "249/249 [==============================] - 15s 59ms/step - loss: 1.8518 - val_loss: 1.4430\n",
      "Epoch 18/50\n",
      "249/249 [==============================] - 13s 53ms/step - loss: 1.2516 - val_loss: 1.0979\n",
      "Epoch 19/50\n"
     ]
    },
    {
     "name": "stdout",
     "output_type": "stream",
     "text": [
      "249/249 [==============================] - 13s 52ms/step - loss: 1.2620 - val_loss: 4.9428\n",
      "Epoch 20/50\n",
      "249/249 [==============================] - 14s 57ms/step - loss: 3.4484 - val_loss: 2.3585\n",
      "Epoch 21/50\n",
      "249/249 [==============================] - 13s 52ms/step - loss: 1.8166 - val_loss: 1.4715\n",
      "Epoch 22/50\n",
      "249/249 [==============================] - 12s 47ms/step - loss: 1.2468 - val_loss: 1.0796\n",
      "Epoch 23/50\n",
      "249/249 [==============================] - 12s 49ms/step - loss: 0.9978 - val_loss: 0.9336\n",
      "Epoch 24/50\n",
      "249/249 [==============================] - 13s 52ms/step - loss: 0.9012 - val_loss: 0.8740\n",
      "Epoch 25/50\n",
      "249/249 [==============================] - 12s 48ms/step - loss: 0.8644 - val_loss: 0.8526\n",
      "Epoch 26/50\n",
      "249/249 [==============================] - 12s 49ms/step - loss: 0.8496 - val_loss: 0.8410\n",
      "Epoch 27/50\n",
      "249/249 [==============================] - 12s 47ms/step - loss: 0.8443 - val_loss: 0.8419\n",
      "Epoch 28/50\n",
      "249/249 [==============================] - 12s 46ms/step - loss: 0.8427 - val_loss: 0.8388\n",
      "Epoch 29/50\n",
      "249/249 [==============================] - 12s 47ms/step - loss: 0.8389 - val_loss: 0.8338\n",
      "Epoch 30/50\n",
      "249/249 [==============================] - 13s 52ms/step - loss: 0.8360 - val_loss: 0.8331\n",
      "Epoch 31/50\n",
      "249/249 [==============================] - 11s 46ms/step - loss: 0.8355 - val_loss: 0.8327\n",
      "Epoch 32/50\n",
      "249/249 [==============================] - 12s 46ms/step - loss: 0.8351 - val_loss: 0.8324\n",
      "Epoch 33/50\n",
      "249/249 [==============================] - 12s 49ms/step - loss: 0.8347 - val_loss: 0.8320\n",
      "Epoch 34/50\n",
      "249/249 [==============================] - 13s 50ms/step - loss: 0.8344 - val_loss: 0.8316\n",
      "Epoch 35/50\n",
      "249/249 [==============================] - 12s 47ms/step - loss: 0.8340 - val_loss: 0.8312\n",
      "Epoch 36/50\n",
      "249/249 [==============================] - 13s 50ms/step - loss: 0.8336 - val_loss: 0.8309\n",
      "Epoch 37/50\n",
      "249/249 [==============================] - 12s 50ms/step - loss: 0.8333 - val_loss: 0.8305\n",
      "Epoch 38/50\n",
      "249/249 [==============================] - 13s 53ms/step - loss: 0.8329 - val_loss: 0.8302\n",
      "Epoch 39/50\n",
      "249/249 [==============================] - 12s 50ms/step - loss: 0.8325 - val_loss: 0.8298\n",
      "Epoch 40/50\n",
      "249/249 [==============================] - 12s 49ms/step - loss: 0.8322 - val_loss: 0.8295\n",
      "Epoch 41/50\n",
      "249/249 [==============================] - 12s 48ms/step - loss: 0.8318 - val_loss: 0.8291\n",
      "Epoch 42/50\n",
      "249/249 [==============================] - 12s 47ms/step - loss: 0.8315 - val_loss: 0.8288\n",
      "Epoch 43/50\n",
      "249/249 [==============================] - 12s 49ms/step - loss: 0.8311 - val_loss: 0.8284\n",
      "Epoch 44/50\n",
      "249/249 [==============================] - 12s 49ms/step - loss: 0.8308 - val_loss: 0.8281\n",
      "Epoch 45/50\n",
      "249/249 [==============================] - 11s 46ms/step - loss: 0.8304 - val_loss: 0.8277\n",
      "Epoch 46/50\n",
      "249/249 [==============================] - 16s 63ms/step - loss: 0.8301 - val_loss: 0.8274\n",
      "Epoch 47/50\n",
      "249/249 [==============================] - 16s 65ms/step - loss: 0.8298 - val_loss: 0.8271\n",
      "Epoch 48/50\n",
      "249/249 [==============================] - 15s 61ms/step - loss: 0.8294 - val_loss: 0.8267\n",
      "Epoch 49/50\n",
      "249/249 [==============================] - 16s 63ms/step - loss: 0.8291 - val_loss: 0.8264\n",
      "Epoch 50/50\n",
      "249/249 [==============================] - 15s 61ms/step - loss: 0.8287 - val_loss: 0.8261\n",
      "(2,)\n",
      "tensorflow\n",
      "(5563, 2766)\n"
     ]
    },
    {
     "name": "stderr",
     "output_type": "stream",
     "text": [
      "/opt/anaconda3/lib/python3.8/site-packages/tensorflow/python/keras/optimizer_v2/optimizer_v2.py:374: UserWarning: The `lr` argument is deprecated, use `learning_rate` instead.\n",
      "  warnings.warn(\n"
     ]
    },
    {
     "name": "stdout",
     "output_type": "stream",
     "text": [
      "Epoch 1/50\n",
      "249/249 [==============================] - 26s 85ms/step - loss: 14.6761 - val_loss: 3.5385\n",
      "Epoch 2/50\n",
      "249/249 [==============================] - 21s 84ms/step - loss: 8.3809 - val_loss: 5.0519\n",
      "Epoch 3/50\n",
      "249/249 [==============================] - 20s 80ms/step - loss: 8.0756 - val_loss: 7.8705\n",
      "Epoch 4/50\n",
      "249/249 [==============================] - 20s 80ms/step - loss: 8.8285 - val_loss: 9.6596\n",
      "Epoch 5/50\n",
      "249/249 [==============================] - 20s 80ms/step - loss: 8.2543 - val_loss: 4.0157\n",
      "Epoch 6/50\n",
      "249/249 [==============================] - 20s 81ms/step - loss: 8.8199 - val_loss: 7.8850\n",
      "Epoch 7/50\n",
      "249/249 [==============================] - 20s 80ms/step - loss: 8.5560 - val_loss: 25.3735\n",
      "Epoch 8/50\n",
      "249/249 [==============================] - 20s 82ms/step - loss: 8.6320 - val_loss: 8.4529\n",
      "Epoch 9/50\n",
      "249/249 [==============================] - 20s 82ms/step - loss: 7.7705 - val_loss: 18.6547\n",
      "Epoch 10/50\n",
      "249/249 [==============================] - 20s 80ms/step - loss: 8.3333 - val_loss: 14.1113\n",
      "Epoch 11/50\n",
      "249/249 [==============================] - 20s 82ms/step - loss: 8.6278 - val_loss: 3.3259\n",
      "Epoch 12/50\n",
      "249/249 [==============================] - 22s 87ms/step - loss: 7.8308 - val_loss: 6.1801\n",
      "Epoch 13/50\n",
      "249/249 [==============================] - 21s 84ms/step - loss: 9.0487 - val_loss: 4.6042\n",
      "Epoch 14/50\n",
      "249/249 [==============================] - 21s 86ms/step - loss: 9.2644 - val_loss: 5.0507\n",
      "Epoch 15/50\n",
      "249/249 [==============================] - 23s 92ms/step - loss: 8.8059 - val_loss: 19.7038\n",
      "Epoch 16/50\n",
      "249/249 [==============================] - 22s 88ms/step - loss: 9.0277 - val_loss: 4.2704\n",
      "Epoch 17/50\n",
      "249/249 [==============================] - 22s 87ms/step - loss: 8.0325 - val_loss: 4.4549\n",
      "Epoch 18/50\n",
      "249/249 [==============================] - 21s 86ms/step - loss: 8.7743 - val_loss: 20.4428\n",
      "Epoch 19/50\n",
      "249/249 [==============================] - 22s 89ms/step - loss: 8.8826 - val_loss: 6.8003\n",
      "Epoch 20/50\n",
      "249/249 [==============================] - 22s 89ms/step - loss: 8.4661 - val_loss: 4.6399\n",
      "Epoch 21/50\n",
      "249/249 [==============================] - 22s 88ms/step - loss: 8.2268 - val_loss: 6.2023\n",
      "\n",
      "Epoch 00021: ReduceLROnPlateau reducing learning rate to 0.0009999999776482583.\n",
      "Epoch 22/50\n",
      "249/249 [==============================] - 22s 89ms/step - loss: 2.3247 - val_loss: 2.3910\n",
      "Epoch 23/50\n",
      "249/249 [==============================] - 22s 89ms/step - loss: 1.9640 - val_loss: 2.3862\n",
      "Epoch 24/50\n",
      "249/249 [==============================] - 22s 89ms/step - loss: 1.9633 - val_loss: 2.3880\n",
      "Epoch 25/50\n",
      "249/249 [==============================] - 23s 91ms/step - loss: 1.9557 - val_loss: 2.3874\n",
      "Epoch 26/50\n",
      "249/249 [==============================] - 24s 96ms/step - loss: 1.9631 - val_loss: 2.3884\n",
      "Epoch 27/50\n",
      "249/249 [==============================] - 25s 99ms/step - loss: 1.9567 - val_loss: 2.3838\n",
      "Epoch 28/50\n",
      "249/249 [==============================] - 23s 92ms/step - loss: 1.9664 - val_loss: 2.3890\n",
      "Epoch 29/50\n",
      "249/249 [==============================] - 22s 90ms/step - loss: 1.9626 - val_loss: 2.3951\n",
      "Epoch 30/50\n",
      "249/249 [==============================] - 23s 92ms/step - loss: 1.9612 - val_loss: 2.3918\n",
      "Epoch 31/50\n",
      "249/249 [==============================] - 23s 93ms/step - loss: 1.9624 - val_loss: 2.3872\n",
      "Epoch 32/50\n",
      "249/249 [==============================] - 24s 95ms/step - loss: 1.9656 - val_loss: 2.3881\n",
      "Epoch 33/50\n",
      "249/249 [==============================] - 24s 98ms/step - loss: 1.9661 - val_loss: 2.3890\n",
      "Epoch 34/50\n",
      "249/249 [==============================] - 23s 94ms/step - loss: 1.9634 - val_loss: 2.3855\n",
      "Epoch 35/50\n",
      "249/249 [==============================] - 24s 96ms/step - loss: 1.9680 - val_loss: 2.3941\n",
      "Epoch 36/50\n",
      "249/249 [==============================] - 23s 90ms/step - loss: 1.9618 - val_loss: 2.3929\n",
      "Epoch 37/50\n",
      "249/249 [==============================] - 23s 91ms/step - loss: 1.9623 - val_loss: 2.3861\n",
      "\n",
      "Epoch 00037: ReduceLROnPlateau reducing learning rate to 9.999999310821295e-05.\n",
      "Epoch 38/50\n",
      "249/249 [==============================] - 22s 90ms/step - loss: 1.9237 - val_loss: 2.3454\n",
      "Epoch 39/50\n",
      "249/249 [==============================] - 22s 87ms/step - loss: 1.9157 - val_loss: 2.3454\n",
      "Epoch 40/50\n",
      "249/249 [==============================] - 22s 87ms/step - loss: 1.9225 - val_loss: 2.3452\n",
      "Epoch 41/50\n",
      "249/249 [==============================] - 21s 85ms/step - loss: 1.9191 - val_loss: 2.3466\n",
      "Epoch 42/50\n",
      "249/249 [==============================] - 22s 89ms/step - loss: 1.9201 - val_loss: 2.3458\n",
      "Epoch 43/50\n",
      "249/249 [==============================] - 21s 85ms/step - loss: 1.9229 - val_loss: 2.3452\n",
      "Epoch 44/50\n",
      "249/249 [==============================] - 22s 88ms/step - loss: 1.9260 - val_loss: 2.3449\n",
      "Epoch 45/50\n",
      "249/249 [==============================] - 21s 86ms/step - loss: 1.9209 - val_loss: 2.3459\n",
      "Epoch 46/50\n",
      "249/249 [==============================] - 21s 85ms/step - loss: 1.9203 - val_loss: 2.3462\n",
      "Epoch 47/50\n",
      "249/249 [==============================] - 22s 90ms/step - loss: 1.9235 - val_loss: 2.3457\n",
      "Epoch 48/50\n",
      "249/249 [==============================] - 22s 87ms/step - loss: 1.9186 - val_loss: 2.3444\n",
      "Epoch 49/50\n",
      "249/249 [==============================] - 21s 84ms/step - loss: 1.9199 - val_loss: 2.3451\n",
      "Epoch 50/50\n",
      "249/249 [==============================] - 22s 88ms/step - loss: 1.9196 - val_loss: 2.3450\n",
      "(2,)\n"
     ]
    },
    {
     "data": {
      "text/plain": [
       "(5549, 600)"
      ]
     },
     "execution_count": 22,
     "metadata": {},
     "output_type": "execute_result"
    }
   ],
   "source": [
    "ma = run_model.run_model('../data_files/train_set_normalized.csv',lr=.01,seed=560,kl1=0,kl2=0,act = 'sigmoid', tied = True, epochs=50, init='glorot_uniform', batch_size=10)\n",
    "m = run_model.run_model('../data_files/pao1_aligned_rnaseq_compendium_zp2_MRnorm_log_01.csv',lr=.01,seed=460,kl1=1e-10,kl2=1e-1,act = 'sigmoid', tied = True, epochs=50, init='glorot_uniform', batch_size=10)\n",
    "mc = run_count_autoencoder.run_count_autoencoder('../data_files/pao1_aligned_rnaseq_compendium_zp2_MRnorm_log_01.csv',lr=.01,seed=460,kl1=1e-10,kl2=1e-1, act = 'relu', tied = True, epochs=50, init='glorot_uniform', batch_size=10)\n",
    "\n",
    "tf_adage = Adage.Adage(ma.autoencoder, ma.history, ma.compendium)\n",
    "tf_weights = np.array(pd.read_csv('../outputs/ADAGE_OG_weights.csv', header = None))\n",
    "tf_cost = pd.read_csv('../outputs/ADAGE_OG_cost_log.csv')\n",
    "tf_adage.weights = tf_weights\n",
    "tf_adage.loss = tf_cost['cost']\n",
    "tf_adage.set_hwg_cutoff(2.5).shape"
   ]
  },
  {
   "cell_type": "markdown",
   "metadata": {},
   "source": [
    "### 3. First-look plots"
   ]
  },
  {
   "cell_type": "markdown",
   "metadata": {},
   "source": [
    "#### Training Loss Curves"
   ]
  },
  {
   "cell_type": "code",
   "execution_count": 65,
   "metadata": {},
   "outputs": [
    {
     "data": {
      "text/plain": [
       "[Text(0.5, 1.0, 'RNAseq DCA (keras code)')]"
      ]
     },
     "execution_count": 65,
     "metadata": {},
     "output_type": "execute_result"
    },
    {
     "data": {
      "image/png": "[encoded data removed]",
      "text/plain": [
       "<Figure size 1152x288 with 4 Axes>"
      ]
     },
     "metadata": {
      "needs_background": "light"
     },
     "output_type": "display_data"
    }
   ],
   "source": [
    "model_dict = {\n",
    "    \"t_adage\": tf_adage,\n",
    "    \"k_adage\": ma,\n",
    "    \"k_da\" : m,\n",
    "    \"k_dca\": mc\n",
    "}\n",
    "fig, ax = plt.subplots(1, 4,figsize=(16 ,4))\n",
    "fig.tight_layout(pad=3.0)\n",
    "\n",
    "name = 't_adage'\n",
    "model_temp = model_dict[name]\n",
    "ax[0].plot(list(range(0,50)), model_temp.loss[0:50], linewidth=1, markersize=2, color = 'orange')\n",
    "ax[0].set(title = name, xlabel = 'Epochs', ylabel = 'Loss')\n",
    "ax[0].set(title = \"Array ADAGE (Jie's code)\")\n",
    "\n",
    "name = 'k_adage'\n",
    "model_temp = model_dict[name]\n",
    "ax[1].plot(list(range(0,50)), model_temp.loss, linewidth=1, markersize=2, color = 'orange')\n",
    "ax[1].plot(list(range(0,50)), model_temp.val_loss, linewidth=1, markersize=2, color = 'red')\n",
    "ax[1].set(title = name, xlabel = 'Epochs', ylabel = 'Loss')\n",
    "ax[1].set(title = \"Array DA (keras code)\")\n",
    "\n",
    "name = 'k_da'\n",
    "model_temp = model_dict[name]\n",
    "ax[2].plot(list(range(0,50)), model_temp.loss, linewidth=1, markersize=2, color = 'orange')\n",
    "ax[2].plot(list(range(0,50)), model_temp.val_loss, linewidth=1, markersize=2, color = 'red')\n",
    "ax[2].set(title = name, xlabel = 'Epochs', ylabel = 'Loss')\n",
    "ax[2].set(title = \"RNAseq DA (keras code)\")\n",
    "\n",
    "name = 'k_dca'\n",
    "model_temp = model_dict[name]\n",
    "ax[3].plot(list(range(0,50)), model_temp.loss, linewidth=1, markersize=2, color = 'orange')\n",
    "ax[3].plot(list(range(0,50)), model_temp.val_loss, linewidth=1, markersize=2, color = 'red')\n",
    "ax[3].set(title = name, xlabel = 'Epochs', ylabel = 'Loss')\n",
    "ax[3].set(title = \"RNAseq DCA (keras code)\")"
   ]
  },
  {
   "cell_type": "markdown",
   "metadata": {},
   "source": [
    "#### Node Weight Distributions"
   ]
  },
  {
   "cell_type": "code",
   "execution_count": 66,
   "metadata": {},
   "outputs": [
    {
     "data": {
      "text/plain": [
       "[Text(0.5, 1.0, 'RNAseq DCA (keras code)')]"
      ]
     },
     "execution_count": 66,
     "metadata": {},
     "output_type": "execute_result"
    },
    {
     "data": {
      "image/png": "[encoded data removed]",
      "text/plain": [
       "<Figure size 1152x288 with 4 Axes>"
      ]
     },
     "metadata": {
      "needs_background": "light"
     },
     "output_type": "display_data"
    }
   ],
   "source": [
    "model_dict = {\n",
    "    \"t_adage\": tf_adage,\n",
    "    \"k_adage\": ma,\n",
    "    \"k_da\" : m,\n",
    "    \"k_dca\": mc\n",
    "}\n",
    "\n",
    "fig, ax = plt.subplots(1, 4,figsize=(16 ,4))\n",
    "fig.tight_layout(pad=3.0)\n",
    "\n",
    "name = 't_adage'\n",
    "model_temp = model_dict[name]\n",
    "sns.histplot(pd.melt(pd.DataFrame(model_temp.weights[:,:])),\n",
    "             x='value', hue='variable', legend=False,element='step',fill=False,\n",
    "             ax=ax[0], bins=50)\n",
    "ax[0].axvline(x = np.std(model_temp.weights)*2.5)\n",
    "ax[0].axvline(x = np.std(model_temp.weights)*-2.5)\n",
    "ax[0].set(title = \"Array ADAGE (Jie's code)\")\n",
    "\n",
    "name = 'k_adage'\n",
    "model_temp = model_dict[name]\n",
    "sns.histplot(pd.melt(pd.DataFrame(model_temp.weights[:,:])),\n",
    "             x='value', hue='variable', legend=False,element='step',fill=False,\n",
    "             ax=ax[1], bins=50)\n",
    "ax[1].axvline(x = np.std(model_temp.weights)*2.5)\n",
    "ax[1].axvline(x = np.std(model_temp.weights)*-2.5)\n",
    "ax[1].set(title = \"Array DA (keras code)\")\n",
    "\n",
    "\n",
    "\n",
    "name = 'k_da'\n",
    "model_temp = model_dict[name]\n",
    "sns.histplot(pd.melt(pd.DataFrame(model_temp.weights[:,:])),\n",
    "             x='value', hue='variable', legend=False,element='step',fill=False,\n",
    "             ax=ax[2], bins=50)\n",
    "ax[2].axvline(x = np.std(model_temp.weights)*2.5)\n",
    "ax[2].axvline(x = np.std(model_temp.weights)*-2.5)\n",
    "ax[2].set(title = \"RNAseq DA (keras code)\")\n",
    "\n",
    "\n",
    "\n",
    "name = 'k_dca'\n",
    "model_temp = model_dict[name]\n",
    "sns.histplot(pd.melt(pd.DataFrame(model_temp.weights[:,:])),\n",
    "             x='value', hue='variable', legend=False,element='step',fill=False,\n",
    "             ax=ax[3], bins=50)\n",
    "ax[3].axvline(x = np.std(model_temp.weights)*2.5)\n",
    "ax[3].axvline(x = np.std(model_temp.weights)*-2.5)\n",
    "ax[3].set(title = \"RNAseq DCA (keras code)\")\n",
    "\n",
    "\n"
   ]
  },
  {
   "cell_type": "markdown",
   "metadata": {},
   "source": [
    "### Wrap-up thoughts\n",
    "\n",
    "These models do not appear to be training, even that trained on array data. This is frustrating since last year this same code trained models on both the array and refine.bio rnaseq compendia OK. Since then the only changes have been those involved in the update of python and keras/tensorflow. \n",
    "\n",
    "\n",
    "These models seem to be training faster than the ones last year and I wonder if that is an indication of a change in the datatypes, loss function or optimizer. "
   ]
  }
 ],
 "metadata": {
  "kernelspec": {
   "display_name": "Python 3",
   "language": "python",
   "name": "python3"
  },
  "language_info": {
   "codemirror_mode": {
    "name": "ipython",
    "version": 3
   },
   "file_extension": ".py",
   "mimetype": "text/x-python",
   "name": "python",
   "nbconvert_exporter": "python",
   "pygments_lexer": "ipython3",
   "version": "3.8.8"
  }
 },
 "nbformat": 4,
 "nbformat_minor": 2
}
