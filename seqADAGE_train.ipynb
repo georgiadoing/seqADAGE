{
 "cells": [
  {
   "cell_type": "markdown",
   "metadata": {},
   "source": [
    "# Train seqADAGE models\n",
    "\n",
    "### Georgia Doing 2020\n",
    "\n",
    "This notebook walks through training a seqADAGE model on a compendium of *P. aeruginosa* RNAseq data."
   ]
  },
  {
   "cell_type": "code",
   "execution_count": 1,
   "metadata": {},
   "outputs": [
    {
     "name": "stderr",
     "output_type": "stream",
     "text": [
      "Using TensorFlow backend.\n"
     ]
    }
   ],
   "source": [
    "import run_model"
   ]
  },
  {
   "cell_type": "code",
   "execution_count": 3,
   "metadata": {},
   "outputs": [
    {
     "data": {
      "text/plain": [
       "<module 'run_model' from '/home/georgia/Dropbox (Hogan Lab)/Digital_notebook/2020_06_02_eADAGE_adapt/seqADAGE/run_model.py'>"
      ]
     },
     "execution_count": 3,
     "metadata": {},
     "output_type": "execute_result"
    }
   ],
   "source": [
    "# for dev purposes, while updating run_model.py need to reload\n",
    "from imp import reload\n",
    "reload(run_model)"
   ]
  },
  {
   "cell_type": "code",
   "execution_count": 5,
   "metadata": {},
   "outputs": [
    {
     "name": "stdout",
     "output_type": "stream",
     "text": [
      "50\n",
      "Train on 932 samples, validate on 104 samples\n",
      "Epoch 1/5\n",
      "932/932 [==============================] - 1s 666us/step - loss: 0.6924 - val_loss: 0.6891\n",
      "Epoch 2/5\n",
      "932/932 [==============================] - 1s 591us/step - loss: 0.6855 - val_loss: 0.6810\n",
      "Epoch 3/5\n",
      "932/932 [==============================] - 1s 575us/step - loss: 0.6757 - val_loss: 0.6698\n",
      "Epoch 4/5\n",
      "932/932 [==============================] - 1s 596us/step - loss: 0.6646 - val_loss: 0.6589\n",
      "Epoch 5/5\n",
      "932/932 [==============================] - 1s 595us/step - loss: 0.6547 - val_loss: 0.6498\n"
     ]
    }
   ],
   "source": [
    "run_model.run_model('data_files/refine_bio_seq.csv',1)"
   ]
  }
 ],
 "metadata": {
  "kernelspec": {
   "display_name": "Python 3",
   "language": "python",
   "name": "python3"
  },
  "language_info": {
   "codemirror_mode": {
    "name": "ipython",
    "version": 3
   },
   "file_extension": ".py",
   "mimetype": "text/x-python",
   "name": "python",
   "nbconvert_exporter": "python",
   "pygments_lexer": "ipython3",
   "version": "3.7.6"
  }
 },
 "nbformat": 4,
 "nbformat_minor": 4
}
