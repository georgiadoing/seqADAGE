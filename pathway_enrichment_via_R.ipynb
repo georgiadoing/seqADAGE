{
 "cells": [
  {
   "cell_type": "code",
   "execution_count": null,
   "metadata": {},
   "outputs": [],
   "source": [
    "%load_ext rpy2.ipython\n",
    "\n",
    "%R commandArgs = function(...) c('outputs/data_files/train_set_normalized_no_names_seed:460_kl1:1e-06_kl2:0_act:relu_init:glorot_normal_ep:500_tied:True_en_weights.csv', 'node_interpretation/manual_GO_BP_terms.txt', 'data_files/train_set_normalized.csv',\\\n",
    "                  'node_interpretation/train_set_norm_s1', 'F', '3.5')\n",
    "%R source('node_interpretation/pathway_enrichment_analysis.R')\n",
    ";"
   ]
  },
  {
   "cell_type": "code",
   "execution_count": null,
   "metadata": {},
   "outputs": [],
   "source": [
    "# read in results of enrichment analyses\n",
    "tf_kegg_results = pandas.read_csv('node_interpretation/ADAGE_Jie_s123_sigPathway.txt', \n",
    "                                  header = 0, sep = '\\t')\n",
    "keras_kegg_results = pandas.read_csv('node_interpretation/train_set_norm_s1_sigPathway.txt', \n",
    "                                     header = 0, sep = '\\t')\n",
    "\n",
    "kegg_summary = {'Model': ['TensorFlow ADAGE', 'Keras ADAGE'],\n",
    "                'Nodes Enriched': [tf_kegg_results['node'].nunique(), keras_kegg_results['node'].nunique()],\n",
    "               'KEGG Pathways represented': [tf_kegg_results['pathway'].nunique(), keras_kegg_results['pathway'].nunique()]\n",
    "               }\n",
    "df = pandas.DataFrame(kegg_summary)\n",
    "df"
   ]
  },
  {
   "cell_type": "code",
   "execution_count": null,
   "metadata": {},
   "outputs": [],
   "source": [
    "\n",
    "tf_kegg_per_node = tf_kegg_results.groupby('node').nunique()\n",
    "\n",
    "keras_kegg_per_node = keras_kegg_results.groupby('node').nunique()\n",
    "\n",
    "fig, (ax1, ax2) = plt.subplots(1,2,figsize=(8, 4))\n",
    "fig.tight_layout(pad=3.0)\n",
    "\n",
    "ax1.hist(tf_kegg_per_node['pathway'], bins = max(tf_kegg_per_node['pathway']))\n",
    "ax2.hist(keras_kegg_per_node['pathway'], bins = max(tf_kegg_per_node['pathway']))\n",
    "\n",
    "ax1.set(title = 'TensorFlow ADAGE', xlabel = 'KEGG Pathways per Node', ylabel = '# Nodes')\n",
    "ax2.set(title = 'Keras ADAGE', xlabel = 'KEGG Pathways per Node', ylabel = '# Nodes')"
   ]
  },
  {
   "cell_type": "code",
   "execution_count": null,
   "metadata": {},
   "outputs": [],
   "source": [
    "\n",
    "tf_kegg_per_path = tf_kegg_results.groupby('pathway').nunique()\n",
    "\n",
    "keras_kegg_per_path = keras_kegg_results.groupby('pathway').nunique()\n",
    "\n",
    "\n",
    "fig, (ax1, ax2) = plt.subplots(1,2,figsize=(8, 4))\n",
    "fig.tight_layout(pad=3.0)\n",
    "\n",
    "ax1.hist(tf_kegg_per_path['node'], bins = max(tf_kegg_per_path['node']))\n",
    "ax2.hist(keras_kegg_per_path['node'], bins = max(tf_kegg_per_path['node']))\n",
    "\n",
    "ax1.set(title = 'TensorFlow ADAGE', xlabel = 'Nodes per KEGG pathways', ylabel = '# KEGG Pathways')\n",
    "ax2.set(title = 'Keras ADAGE', xlabel = 'Nodes per KEGG Pathway', ylabel = '# KEGG Pathways')"
   ]
  }
 ],
 "metadata": {
  "kernelspec": {
   "display_name": "Python 3",
   "language": "python",
   "name": "python3"
  },
  "language_info": {
   "codemirror_mode": {
    "name": "ipython",
    "version": 3
   },
   "file_extension": ".py",
   "mimetype": "text/x-python",
   "name": "python",
   "nbconvert_exporter": "python",
   "pygments_lexer": "ipython3",
   "version": "3.7.6"
  }
 },
 "nbformat": 4,
 "nbformat_minor": 4
}
